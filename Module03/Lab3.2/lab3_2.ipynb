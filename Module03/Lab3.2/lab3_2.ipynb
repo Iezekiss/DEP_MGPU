{
  "cells": [
    {
      "cell_type": "code",
      "execution_count": 1,
      "metadata": {
        "colab": {
          "base_uri": "https://localhost:8080/",
          "height": 1000
        },
        "id": "YDnqPnosYdk6",
        "outputId": "5ba0198e-4c77-446e-a58a-628a78c5ecc5"
      },
      "outputs": [
        {
          "ename": "ModuleNotFoundError",
          "evalue": "No module named 'pandas'",
          "output_type": "error",
          "traceback": [
            "\u001b[0;31m---------------------------------------------------------------------------\u001b[0m",
            "\u001b[0;31mModuleNotFoundError\u001b[0m                       Traceback (most recent call last)",
            "Cell \u001b[0;32mIn[1], line 1\u001b[0m\n\u001b[0;32m----> 1\u001b[0m \u001b[38;5;28;01mimport\u001b[39;00m \u001b[38;5;21;01mpandas\u001b[39;00m \u001b[38;5;28;01mas\u001b[39;00m \u001b[38;5;21;01mpd\u001b[39;00m\n\u001b[1;32m      2\u001b[0m \u001b[38;5;28;01mimport\u001b[39;00m \u001b[38;5;21;01mmatplotlib\u001b[39;00m\u001b[38;5;21;01m.\u001b[39;00m\u001b[38;5;21;01mpyplot\u001b[39;00m \u001b[38;5;28;01mas\u001b[39;00m \u001b[38;5;21;01mplt\u001b[39;00m\n\u001b[1;32m      3\u001b[0m \u001b[38;5;28;01mimport\u001b[39;00m \u001b[38;5;21;01mseaborn\u001b[39;00m \u001b[38;5;28;01mas\u001b[39;00m \u001b[38;5;21;01msns\u001b[39;00m\n",
            "\u001b[0;31mModuleNotFoundError\u001b[0m: No module named 'pandas'"
          ]
        }
      ],
      "source": [
        "import pandas as pd\n",
        "import matplotlib.pyplot as plt\n",
        "import seaborn as sns\n",
        "\n",
        "df = pd.read_csv('Lab3.2 - Ответы на форму (1)-2.csv')\n",
        "\n",
        "df.columns = df.columns.str.replace('\"\"', '\"')\n",
        "\n",
        "plt.figure(figsize=(8, 6))\n",
        "sns.countplot(data=df, x='Есть ли у вас опыт в области \"Data Engineering\"?', order=['Нет опыта', 'Начальный уровень', 'Средний уровень', 'Продвинутый уровень', 'Эксперт'])\n",
        "plt.title('Опыт респондентов в Data Engineering')\n",
        "plt.xlabel('Уровень опыта')\n",
        "plt.ylabel('Количество респондентов')\n",
        "plt.xticks(rotation=45)\n",
        "plt.show()\n",
        "\n",
        "plt.figure(figsize=(8, 6))\n",
        "sns.histplot(data=df, x='Насколько вы знакомы с концепцией Data Mesh?', bins=5, kde=False)\n",
        "plt.title('Знакомство с концепцией Data Mesh')\n",
        "plt.xlabel('Уровень знакомства (1-5)')\n",
        "plt.ylabel('Количество респондентов')\n",
        "plt.show()\n",
        "\n",
        "aspects = [\n",
        "    'Оцените по шкале важность каждого из нижеперечисленных аспектов для успешного внедрения Data Mesh: [Организационная культура]',\n",
        "    'Оцените по шкале важность каждого из нижеперечисленных аспектов для успешного внедрения Data Mesh: [Технологическая инфраструктура]',\n",
        "    'Оцените по шкале важность каждого из нижеперечисленных аспектов для успешного внедрения Data Mesh: [Компетенции специалистов]',\n",
        "    'Оцените по шкале важность каждого из нижеперечисленных аспектов для успешного внедрения Data Mesh: [Финансовые ресурсы]'\n",
        "]\n",
        "\n",
        "short_aspects = ['Орг. культура', 'Техн. инфраструктура', 'Компетенции', 'Финансы']\n",
        "aspects_importance = df[aspects].mean()\n",
        "\n",
        "plt.figure(figsize=(8, 6))\n",
        "plt.pie(aspects_importance, labels=short_aspects, autopct='%1.1f%%', startangle=140)\n",
        "plt.title('Важность аспектов для внедрения Data Mesh')\n",
        "plt.show()\n",
        "\n",
        "principles = ['Децентрализация владения данными', 'Доменно-ориентированная архитектура', 'Самообслуживающая инфраструктура данных', 'Продуктовое мышление в управлении данными']\n",
        "principle_counts = df['Какие из следующих ключевых принципов Data Mesh вы считаете наиболее важными?'].str.split(',').explode().str.strip().value_counts()\n",
        "\n",
        "plt.figure(figsize=(8, 6))\n",
        "plt.pie(principle_counts, labels=principle_counts.index, autopct='%1.1f%%', startangle=140)\n",
        "plt.title('Ключевые принципы Data Mesh')\n",
        "plt.show()\n",
        "\n",
        "problematic_aspects = df['Какой аспект Data Mesh вы считаете наиболее проблематичным при его внедрении?'].value_counts()\n",
        "\n",
        "plt.figure(figsize=(8, 6))\n",
        "plt.pie(problematic_aspects, labels=problematic_aspects.index, autopct='%1.1f%%', startangle=140)\n",
        "plt.title('Проблематичные аспекты внедрения Data Mesh')\n",
        "plt.show()\n",
        "\n",
        "technologies = ['Apache Kafka', 'Apache Airflow', 'dbt', 'Snowflake', 'Databricks', 'LakeFS']\n",
        "technology_counts = df['Какие технологии или инструменты, по вашему мнению, наиболее эффективно поддерживают принципы Data Mesh? (Выберите все применимые варианты и, при наличии, добавьте свои предложения)'].str.split(',').explode().str.strip().value_counts()\n",
        "\n",
        "plt.figure(figsize=(8, 6))\n",
        "plt.pie(technology_counts, labels=technology_counts.index, autopct='%1.1f%%', startangle=140)\n",
        "plt.title('Используемые технологии для поддержки Data Mesh')\n",
        "plt.show()\n",
        "\n",
        "print(\"Основные выводы:\")\n",
        "print(\"1. Большинство респондентов имеют начальный или средний уровень опыта в Data Engineering.\")\n",
        "print(\"2. Уровень знакомства с концепцией Data Mesh варьируется, но большинство оценивают его на 3-4 балла из 5.\")\n",
        "print(\"3. Наиболее важным аспектом для внедрения Data Mesh считается технологическая инфраструктура.\")\n",
        "print(\"4. Наиболее важными принципами Data Mesh считаются децентрализация владения данными и доменно-ориентированная архитектура.\")\n",
        "print(\"5. Наиболее проблематичным аспектом внедрения Data Mesh считаются организационные барьеры.\")\n",
        "print(\"6. Наиболее популярными технологиями для поддержки Data Mesh являются Apache Kafka, Apache Airflow и Databricks.\")"
      ]
    }
  ],
  "metadata": {
    "colab": {
      "provenance": []
    },
    "kernelspec": {
      "display_name": "Python 3",
      "name": "python3"
    },
    "language_info": {
      "codemirror_mode": {
        "name": "ipython",
        "version": 3
      },
      "file_extension": ".py",
      "mimetype": "text/x-python",
      "name": "python",
      "nbconvert_exporter": "python",
      "pygments_lexer": "ipython3",
      "version": "3.10.5"
    }
  },
  "nbformat": 4,
  "nbformat_minor": 0
}
